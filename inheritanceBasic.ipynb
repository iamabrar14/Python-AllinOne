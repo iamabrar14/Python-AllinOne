{
 "cells": [
  {
   "cell_type": "code",
   "execution_count": 3,
   "metadata": {},
   "outputs": [
    {
     "name": "stdout",
     "output_type": "stream",
     "text": [
      "Hi I am Abrar and my employee id is 5\n",
      "Hi I am Anik and my employee id is 2\n",
      "Job holder\n"
     ]
    }
   ],
   "source": [
    "class Employee:\n",
    "    def __init__(self,name,id):\n",
    "        self.name=name \n",
    "        self.id=id\n",
    "    def showInfo(self):\n",
    "        print(f\"Hi I am {self.name} and my employee id is {self.id}\")\n",
    "class profession(Employee):\n",
    "    def prof(self):\n",
    "        print(\"Job holder\")\n",
    "e1=Employee(\"Abrar\",5)\n",
    "e2=profession(\"Anik\",2)\n",
    "e1.showInfo()\n",
    "e2.showInfo()\n",
    "e2.prof() \n",
    "\"\"\"I created e2=profession object. profession doesn't have any method call showInfo. Still I printed\n",
    "showInfo method because profession is inherited from Employee. That means profession can use functions of\n",
    "Employee without creating seperate object\n",
    "\"\"\"\n",
    "    "
   ]
  },
  {
   "cell_type": "code",
   "execution_count": 6,
   "metadata": {},
   "outputs": [
    {
     "name": "stdout",
     "output_type": "stream",
     "text": [
      "Messi is a Right Winger\n",
      "Main Class from which next class will be inherited\n",
      "Lamine Yamal is a Right Winger\n",
      "Main Class from which next class will be inherited\n",
      "Jersey Number is 10\n"
     ]
    }
   ],
   "source": [
    "class Footballer:\n",
    "    def __init__(self,name,positions):\n",
    "        self.name=name\n",
    "        self.positions=positions\n",
    "    def showDetails(self):\n",
    "        print(f\"{self.name} is a {self.positions}\")\n",
    "       \n",
    "class position(Footballer):\n",
    "    def info(self):\n",
    "        print(\"Jersey Number is 10\")\n",
    "        \n",
    "a=Footballer(\"Messi\",\"Right Winger\")\n",
    "b=position(\"Lamine Yamal\",\"Right Winger\")\n",
    "a.showDetails()\n",
    "\n",
    "b.showDetails()\n",
    "b.info()"
   ]
  }
 ],
 "metadata": {
  "kernelspec": {
   "display_name": "Python 3",
   "language": "python",
   "name": "python3"
  },
  "language_info": {
   "codemirror_mode": {
    "name": "ipython",
    "version": 3
   },
   "file_extension": ".py",
   "mimetype": "text/x-python",
   "name": "python",
   "nbconvert_exporter": "python",
   "pygments_lexer": "ipython3",
   "version": "3.12.1"
  }
 },
 "nbformat": 4,
 "nbformat_minor": 2
}
