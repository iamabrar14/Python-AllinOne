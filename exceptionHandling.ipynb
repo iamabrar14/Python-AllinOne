{
 "cells": [
  {
   "cell_type": "code",
   "execution_count": 1,
   "metadata": {},
   "outputs": [
    {
     "name": "stdout",
     "output_type": "stream",
     "text": [
      "Summation : \n",
      "This is the way of exception handling\n",
      "You have to enter integer\n"
     ]
    }
   ],
   "source": [
    "#Exception handling in python is a way of manage errors or unexpected events during the execution of a code.\n",
    "#We can handle the error gracefully using try-except blocks.\n",
    "\n",
    "a=input(\"Enter first number : \")\n",
    "b=input(\"Enter second number : \")\n",
    "try:\n",
    "    sum=a+b\n",
    "    print(\"Summation : \")\n",
    "except Exception as e:\n",
    "    print(e)\n",
    "print(\"This is the way of exception handling\")\n",
    "print(\"You have to enter integer\")\n",
    "#Input was string. That's why summation is none. "
   ]
  },
  {
   "cell_type": "code",
   "execution_count": 3,
   "metadata": {},
   "outputs": [
    {
     "name": "stdout",
     "output_type": "stream",
     "text": [
      "Multiplication table of abrar is : \n",
      "'str' object cannot be interpreted as an integer\n",
      "Code of Multiplication Table\n",
      "End of program\n"
     ]
    }
   ],
   "source": [
    "a=input(\"Enter a number : \")\n",
    "print(f\"Multiplication table of {a} is : \")\n",
    "try:\n",
    "    for i in range(a):\n",
    "        print(f\"{int(a)}X{i} = {int(a)*i}\")\n",
    "except Exception as e:\n",
    "    print(e)\n",
    "print(\"Code of Multiplication Table\")\n",
    "print(\"End of program\")\n"
   ]
  },
  {
   "cell_type": "code",
   "execution_count": 5,
   "metadata": {},
   "outputs": [
    {
     "name": "stdout",
     "output_type": "stream",
     "text": [
      "Multiplication table of 10 is : \n",
      "10X1 = 10\n",
      "10X2 = 20\n",
      "10X3 = 30\n",
      "10X4 = 40\n",
      "10X5 = 50\n",
      "10X6 = 60\n",
      "10X7 = 70\n",
      "10X8 = 80\n",
      "10X9 = 90\n",
      "10X10 = 100\n",
      "Code of Multiplication Table\n",
      "End of program\n"
     ]
    }
   ],
   "source": [
    "#Same code with valid input\n",
    "a=input(\"Enter a number : \")\n",
    "print(f\"Multiplication table of {a} is : \")\n",
    "try:\n",
    "    for i in range(1,11):\n",
    "        print(f\"{int(a)}X{i} = {int(a)*i}\")\n",
    "except Exception as e:\n",
    "    print(e)\n",
    "print(\"Code of Multiplication Table\")\n",
    "print(\"End of program\")\n"
   ]
  },
  {
   "cell_type": "code",
   "execution_count": 9,
   "metadata": {},
   "outputs": [
    {
     "name": "stdout",
     "output_type": "stream",
     "text": [
      "Entered input is not a number\n",
      "invalid literal for int() with base 10: 'Pranto'\n"
     ]
    }
   ],
   "source": [
    "try:\n",
    " a=int(input(\"Enter a number : \"))\n",
    "\n",
    " print(\"The number is : \",a)\n",
    "except ValueError as e:\n",
    " print(\"Entered input is not a number\")\n",
    " print(e)"
   ]
  }
 ],
 "metadata": {
  "kernelspec": {
   "display_name": "Python 3",
   "language": "python",
   "name": "python3"
  },
  "language_info": {
   "codemirror_mode": {
    "name": "ipython",
    "version": 3
   },
   "file_extension": ".py",
   "mimetype": "text/x-python",
   "name": "python",
   "nbconvert_exporter": "python",
   "pygments_lexer": "ipython3",
   "version": "3.12.1"
  }
 },
 "nbformat": 4,
 "nbformat_minor": 2
}
