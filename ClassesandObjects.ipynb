{
 "cells": [
  {
   "cell_type": "code",
   "execution_count": 3,
   "metadata": {},
   "outputs": [
    {
     "name": "stdout",
     "output_type": "stream",
     "text": [
      "Abrar Rahman\n",
      "24\n"
     ]
    }
   ],
   "source": [
    "class person:\n",
    "    name=\"Abrar Rahman\"\n",
    "    age=24\n",
    "    occupation=\"Student\"\n",
    "a=person()\n",
    "print(a.name)\n",
    "print(a.age)"
   ]
  },
  {
   "cell_type": "code",
   "execution_count": 4,
   "metadata": {},
   "outputs": [
    {
     "name": "stdout",
     "output_type": "stream",
     "text": [
      "Abrar Rahman is 24 years old and he is a Student\n"
     ]
    }
   ],
   "source": [
    "class person:\n",
    "    name=\"Abrar Rahman\"\n",
    "    age=24\n",
    "    occupation=\"Student\"\n",
    "    def info(self):\n",
    "        print(f\"{self.name} is {self.age} years old and he is a {self.occupation}\")\n",
    "a=person()\n",
    "a.info()"
   ]
  },
  {
   "cell_type": "code",
   "execution_count": 5,
   "metadata": {},
   "outputs": [
    {
     "name": "stdout",
     "output_type": "stream",
     "text": [
      "Anik is 24 years old and he is a Gamer\n",
      "Tofiq is 23 years old and he is a Designer\n",
      "Abrar Rahman is 24 years old and he is a Student\n"
     ]
    }
   ],
   "source": [
    "class person:\n",
    "    name=\"Abrar Rahman\"\n",
    "    age=24\n",
    "    occupation=\"Student\"\n",
    "    def info(self):\n",
    "        print(f\"{self.name} is {self.age} years old and he is a {self.occupation}\")\n",
    "a=person()\n",
    "b=person()\n",
    "c=person()\n",
    "a.name=\"Anik\"\n",
    "a.age=24\n",
    "a.occupation=\"Gamer\"\n",
    "b.name=\"Tofiq\"\n",
    "b.age=23\n",
    "b.occupation=\"Designer\"\n",
    "a.info()\n",
    "b.info()\n",
    "c.info() # I did not changed so c will print default given value of each object."
   ]
  }
 ],
 "metadata": {
  "kernelspec": {
   "display_name": "Python 3",
   "language": "python",
   "name": "python3"
  },
  "language_info": {
   "codemirror_mode": {
    "name": "ipython",
    "version": 3
   },
   "file_extension": ".py",
   "mimetype": "text/x-python",
   "name": "python",
   "nbconvert_exporter": "python",
   "pygments_lexer": "ipython3",
   "version": "3.12.1"
  }
 },
 "nbformat": 4,
 "nbformat_minor": 2
}
