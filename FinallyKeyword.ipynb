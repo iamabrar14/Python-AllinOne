{
 "cells": [
  {
   "cell_type": "code",
   "execution_count": null,
   "metadata": {},
   "outputs": [],
   "source": [
    "#Finally keyword is also a part of try-except\n",
    "#When we we finally, that means code under this block will always execute.\n",
    "#Doesn't matter whatever the situation is.\n",
    "#knowing the Use of finally keyword is really important."
   ]
  },
  {
   "cell_type": "code",
   "execution_count": 1,
   "metadata": {},
   "outputs": [
    {
     "name": "stdout",
     "output_type": "stream",
     "text": [
      "Wrong index Entered!\n",
      "Wrong or Right, I will always execute!!\n"
     ]
    }
   ],
   "source": [
    "try:\n",
    "    l=[1,2,3,4,5]\n",
    "    i=int(input(\"Enter index 0-4 :\"))\n",
    "    print(l[i])\n",
    "except:\n",
    "    print(\"Wrong index Entered!\")\n",
    "finally:\n",
    "    print(\"Wrong or Right, I will always execute!!\")"
   ]
  },
  {
   "cell_type": "code",
   "execution_count": 2,
   "metadata": {},
   "outputs": [
    {
     "name": "stdout",
     "output_type": "stream",
     "text": [
      "4\n",
      "Wrong or Right, I will always execute!!\n",
      "1\n"
     ]
    }
   ],
   "source": [
    "#With a function\n",
    "\n",
    "def listing():\n",
    " try:\n",
    "    l=[1,2,3,4,5]\n",
    "    i=int(input(\"Enter index 0-4 :\"))\n",
    "    print(l[i])\n",
    "    return 1 #1 if input is valid\n",
    " except:\n",
    "    print(\"Wrong index Entered!\")\n",
    "    return 0 #0 if input is invalid\n",
    " finally:\n",
    "    print(\"Wrong or Right, I will always execute!!\")\n",
    "a=listing()\n",
    "print(a)"
   ]
  }
 ],
 "metadata": {
  "kernelspec": {
   "display_name": "Python 3",
   "language": "python",
   "name": "python3"
  },
  "language_info": {
   "codemirror_mode": {
    "name": "ipython",
    "version": 3
   },
   "file_extension": ".py",
   "mimetype": "text/x-python",
   "name": "python",
   "nbconvert_exporter": "python",
   "pygments_lexer": "ipython3",
   "version": "3.12.1"
  }
 },
 "nbformat": 4,
 "nbformat_minor": 2
}
