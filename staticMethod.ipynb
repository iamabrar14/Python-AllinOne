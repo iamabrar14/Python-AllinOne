{
 "cells": [
  {
   "cell_type": "code",
   "execution_count": 4,
   "metadata": {},
   "outputs": [
    {
     "name": "stdout",
     "output_type": "stream",
     "text": [
      "Number we sent in parameter:  10\n",
      "Summation of two numbers :  15\n"
     ]
    }
   ],
   "source": [
    "\"\"\"A @staticmethod is used when a method performs a task independent of the class or instance it is in, \n",
    "but logically it belongs to the class's scope.\n",
    "in one word: static method belongs to a class but works independently. It does not require 'self' \n",
    "keyword or reference.\n",
    "\"\"\"\n",
    "class calculation:\n",
    "    def __init__(self,num):\n",
    "        self.num=num\n",
    "    def newValue(self,n):\n",
    "        self.num=self.num+n\n",
    "    @staticmethod\n",
    "    def add(a,b):\n",
    "        return a+b\n",
    "a=calculation(10)\n",
    "print(\"Number we sent in parameter: \",a.num)\n",
    "print(\"Summation of two numbers : \",calculation.add(10,5)) #Just called by the name of class, not object\n",
    "        "
   ]
  }
 ],
 "metadata": {
  "kernelspec": {
   "display_name": "Python 3",
   "language": "python",
   "name": "python3"
  },
  "language_info": {
   "codemirror_mode": {
    "name": "ipython",
    "version": 3
   },
   "file_extension": ".py",
   "mimetype": "text/x-python",
   "name": "python",
   "nbconvert_exporter": "python",
   "pygments_lexer": "ipython3",
   "version": "3.12.1"
  }
 },
 "nbformat": 4,
 "nbformat_minor": 2
}
