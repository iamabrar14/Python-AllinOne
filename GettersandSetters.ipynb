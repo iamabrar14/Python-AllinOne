{
 "cells": [
  {
   "cell_type": "code",
   "execution_count": 2,
   "metadata": {},
   "outputs": [
    {
     "name": "stdout",
     "output_type": "stream",
     "text": [
      "67.0\n",
      "Value is 6.7\n"
     ]
    }
   ],
   "source": [
    "\"\"\"Getter and Setter are special methods in python used for access and modify private attribute of a class\n",
    "   Getter- Used to get value of a private attribute\n",
    "   Setter- Used to set or update value of a private attribute\n",
    " \"\"\"\n",
    "class Myclass:\n",
    "    def __init__(self,value):\n",
    "        self._value=value\n",
    "    def show(self):\n",
    "        print(f\"Value is {self._value}\")\n",
    "    @property\n",
    "    def ten_value(self):\n",
    "        return 10* self._value\n",
    "    @ten_value.setter\n",
    "    def ten_value(self,new_value):\n",
    "        self._value=new_value/10\n",
    "obj=Myclass(10)\n",
    "obj.ten_value=67\n",
    "print(obj.ten_value)\n",
    "obj.show()\n",
    "    \n",
    "        "
   ]
  }
 ],
 "metadata": {
  "kernelspec": {
   "display_name": "Python 3",
   "language": "python",
   "name": "python3"
  },
  "language_info": {
   "codemirror_mode": {
    "name": "ipython",
    "version": 3
   },
   "file_extension": ".py",
   "mimetype": "text/x-python",
   "name": "python",
   "nbconvert_exporter": "python",
   "pygments_lexer": "ipython3",
   "version": "3.12.1"
  }
 },
 "nbformat": 4,
 "nbformat_minor": 2
}
