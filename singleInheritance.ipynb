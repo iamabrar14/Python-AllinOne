{
 "cells": [
  {
   "cell_type": "code",
   "execution_count": 11,
   "metadata": {},
   "outputs": [
    {
     "name": "stdout",
     "output_type": "stream",
     "text": [
      "He is Pedri and his jersey number is 8\n",
      "The footballer is Pedri and he plays as Midfielder\n"
     ]
    }
   ],
   "source": [
    "\"\"\"Single inheritance is a type of inheritance where a class inherits properties and behaviour from\n",
    "a single parent class. It is the most common inheritance.\n",
    "\"\"\"\n",
    "class Footballer:\n",
    "    def __init__(self,name,position):\n",
    "        self.name=name\n",
    "        self.position=position\n",
    "    def showinfo(self):\n",
    "        print(f\"The footballer is {self.name} and he plays as {self.position}\")\n",
    "class Midfielder(Footballer):\n",
    "    def __init__(self,name,jersey):\n",
    "        super().__init__(name,\"Midfielder\")\n",
    "        self.jersey=jersey\n",
    "    def showinfo(self):\n",
    "        print(f\"He is {self.name} and his jersey number is {self.jersey}\")\n",
    "f1=Midfielder(\"Pedri\",8)\n",
    "f2=Footballer(\"Pedri\",\"Midfielder\")\n",
    "f1.showinfo()\n",
    "f2.showinfo()\n"
   ]
  },
  {
   "cell_type": "code",
   "execution_count": 14,
   "metadata": {},
   "outputs": [
    {
     "name": "stdout",
     "output_type": "stream",
     "text": [
      "This programmer use Python for coding\n",
      "He is Abrar and his salary 25000\n"
     ]
    }
   ],
   "source": [
    "class Employee:\n",
    "    def __init__(self,name,salary):\n",
    "        self.name=name\n",
    "        self.salary=salary\n",
    "    def showinfo(self):\n",
    "        print(f\"He is {self.name} and his salary {self.salary}\")\n",
    "class Programmer(Employee):\n",
    "    def __init__(self,name,lang):\n",
    "        super().__init__(name,25000)\n",
    "        self.lang=lang\n",
    "        print(f\"This programmer use {self.lang} for coding\")\n",
    "e=Programmer(\"Abrar\",\"Python\")\n",
    "e.showinfo()"
   ]
  }
 ],
 "metadata": {
  "kernelspec": {
   "display_name": "Python 3",
   "language": "python",
   "name": "python3"
  },
  "language_info": {
   "codemirror_mode": {
    "name": "ipython",
    "version": 3
   },
   "file_extension": ".py",
   "mimetype": "text/x-python",
   "name": "python",
   "nbconvert_exporter": "python",
   "pygments_lexer": "ipython3",
   "version": "3.12.1"
  }
 },
 "nbformat": 4,
 "nbformat_minor": 2
}
