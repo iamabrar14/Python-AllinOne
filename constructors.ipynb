{
 "cells": [
  {
   "cell_type": "code",
   "execution_count": 9,
   "metadata": {},
   "outputs": [
    {
     "name": "stdout",
     "output_type": "stream",
     "text": [
      "I am Abrar and I am a Student\n",
      "I am Anik and I am a Gamer\n",
      "I am Tofiq and I am a Designer\n",
      "I am Akib and I am a Lawyer\n"
     ]
    }
   ],
   "source": [
    "\"\"\"A constructor is a special method in a class used to create and initialize an object of a class.\n",
    "Main purpose of constructor is initializing value.\n",
    "If a constructor only takes self as parameter it is called default constructor.\n",
    "\"\"\"\n",
    "class person:\n",
    "    def __init__(self,name,occ):\n",
    "        self.name=name\n",
    "        self.occ=occ\n",
    "    def info(self):\n",
    "        print(f\"I am {self.name} and I am a {self.occ}\")\n",
    "a=person(\"Abrar\",\"Student\")\n",
    "b=person(\"Anik\",\"Gamer\")\n",
    "c=person(\"Tofiq\",\"Designer\")\n",
    "d=person(\"Akib\",\"Lawyer\")\n",
    "a.info()\n",
    "b.info()\n",
    "c.info()\n",
    "d.info()\n"
   ]
  }
 ],
 "metadata": {
  "kernelspec": {
   "display_name": "Python 3",
   "language": "python",
   "name": "python3"
  },
  "language_info": {
   "codemirror_mode": {
    "name": "ipython",
    "version": 3
   },
   "file_extension": ".py",
   "mimetype": "text/x-python",
   "name": "python",
   "nbconvert_exporter": "python",
   "pygments_lexer": "ipython3",
   "version": "3.12.1"
  }
 },
 "nbformat": 4,
 "nbformat_minor": 2
}
