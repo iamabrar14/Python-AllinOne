{
 "cells": [
  {
   "cell_type": "code",
   "execution_count": 5,
   "metadata": {},
   "outputs": [
    {
     "name": "stdout",
     "output_type": "stream",
     "text": [
      "I am derived class 1\n",
      "I am derived class 3\n",
      "I am derived class 2\n"
     ]
    }
   ],
   "source": [
    "\"\"\"Hybrid Inheritance is a combination of multiple and single inheritance in oop.\n",
    "\"\"\"\n",
    "class Baseclass:\n",
    "    def __init__(self):\n",
    "        print(\"I am base class\")\n",
    "class derived1(Baseclass):\n",
    "    def __init__(self):\n",
    "        print(\"I am derived class 1\")\n",
    "class derived2(Baseclass):\n",
    "    def __init__(self):\n",
    "        print(\"I am derived class 2\")\n",
    "class derived3(derived1,derived2):\n",
    "    def __init__(self):\n",
    "        super().__init__()\n",
    "        print(\"I am derived class 3\")\n",
    "        \n",
    "obj=derived3()\n",
    "obj2=derived2()"
   ]
  },
  {
   "cell_type": "code",
   "execution_count": 8,
   "metadata": {},
   "outputs": [
    {
     "name": "stdout",
     "output_type": "stream",
     "text": [
      "I'm a person \n",
      "I can be friend of someone\n",
      "A person can be a friend and a gamer\n"
     ]
    }
   ],
   "source": [
    "class person:\n",
    "    def __init__(self):\n",
    "        print(\"I'm a person \")\n",
    "class friend(person):\n",
    "    def __init__(self):\n",
    "        print(\"I can be friend of someone\")\n",
    "class gamer(friend,person):\n",
    "    def __init__(self):\n",
    "        super().__init__()\n",
    "        print(\"A person can be a friend and a gamer\")\n",
    "obj1=person()\n",
    "obj2=gamer()\n"
   ]
  }
 ],
 "metadata": {
  "kernelspec": {
   "display_name": "Python 3",
   "language": "python",
   "name": "python3"
  },
  "language_info": {
   "codemirror_mode": {
    "name": "ipython",
    "version": 3
   },
   "file_extension": ".py",
   "mimetype": "text/x-python",
   "name": "python",
   "nbconvert_exporter": "python",
   "pygments_lexer": "ipython3",
   "version": "3.12.1"
  }
 },
 "nbformat": 4,
 "nbformat_minor": 2
}
