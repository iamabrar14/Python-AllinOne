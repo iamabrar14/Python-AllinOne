{
 "cells": [
  {
   "cell_type": "code",
   "execution_count": null,
   "metadata": {},
   "outputs": [],
   "source": [
    "\"\"\"Access modifiers are use to limit access of class variables and class methods outside the class\n",
    "\"\"\""
   ]
  },
  {
   "cell_type": "code",
   "execution_count": 2,
   "metadata": {},
   "outputs": [
    {
     "ename": "AttributeError",
     "evalue": "'Person' object has no attribute '__name'",
     "output_type": "error",
     "traceback": [
      "\u001b[31m---------------------------------------------------------------------------\u001b[39m",
      "\u001b[31mAttributeError\u001b[39m                            Traceback (most recent call last)",
      "\u001b[36mCell\u001b[39m\u001b[36m \u001b[39m\u001b[32mIn[2]\u001b[39m\u001b[32m, line 9\u001b[39m\n\u001b[32m      7\u001b[39m         \u001b[38;5;28mself\u001b[39m.__name=\u001b[33m\"\u001b[39m\u001b[33mAbrar\u001b[39m\u001b[33m\"\u001b[39m \u001b[38;5;66;03m#Private variable by the use of (__)\u001b[39;00m\n\u001b[32m      8\u001b[39m obj=Person()\n\u001b[32m----> \u001b[39m\u001b[32m9\u001b[39m \u001b[38;5;28mprint\u001b[39m(\u001b[43mobj\u001b[49m\u001b[43m.\u001b[49m\u001b[43m__name\u001b[49m) \u001b[38;5;66;03m#it will throw an error cause variable is private\u001b[39;00m\n",
      "\u001b[31mAttributeError\u001b[39m: 'Person' object has no attribute '__name'"
     ]
    }
   ],
   "source": [
    "\"\"\"Unlike c++ , there are no such keywords like 'private' to set the variable private. But still we can\n",
    "do that.\n",
    "like this self.__variableName=variableName\n",
    "\"\"\"\n",
    "class Person:\n",
    "    def __init__(self):\n",
    "        self.__name=\"Abrar\" #Private variable by the use of (__)\n",
    "obj=Person()\n",
    "print(obj.__name) #it will throw an error cause variable is private"
   ]
  },
  {
   "cell_type": "code",
   "execution_count": 9,
   "metadata": {},
   "outputs": [
    {
     "name": "stdout",
     "output_type": "stream",
     "text": [
      "Abrar\n"
     ]
    }
   ],
   "source": [
    "\"\"\" Still we can access this variable by using Name Mangling\n",
    "  just simply like this print(obj._Person__name)\n",
    "\"\"\"\n",
    "\n",
    "class Person:\n",
    "    def __init__(self):\n",
    "        self.__name=\"Abrar\" #Private variable by the use of (__)\n",
    "obj=Person()\n",
    "print(obj._Person__name)#it will throw an error cause variable is private\n",
    "#Used an underscore just before the class name"
   ]
  },
  {
   "cell_type": "code",
   "execution_count": 13,
   "metadata": {},
   "outputs": [
    {
     "name": "stdout",
     "output_type": "stream",
     "text": [
      "Welcome to Access Modifier Abrar\n",
      "bye\n"
     ]
    }
   ],
   "source": [
    "class greet:\n",
    "    def __init__(self,name):\n",
    "        self._name=name #protected just using one underscore\n",
    "    def hello(self):\n",
    "        print(f\"Welcome to Access Modifier {self._name}\")\n",
    "class bye(greet):\n",
    "    pass\n",
    "\n",
    "o=greet(\"Abrar\")\n",
    "o1=bye\n",
    "o.hello()\n",
    "print(o1.__name__) #Will print the class name that is inherited from greet class\n",
    "\n",
    "    "
   ]
  }
 ],
 "metadata": {
  "kernelspec": {
   "display_name": "Python 3",
   "language": "python",
   "name": "python3"
  },
  "language_info": {
   "codemirror_mode": {
    "name": "ipython",
    "version": 3
   },
   "file_extension": ".py",
   "mimetype": "text/x-python",
   "name": "python",
   "nbconvert_exporter": "python",
   "pygments_lexer": "ipython3",
   "version": "3.12.1"
  }
 },
 "nbformat": 4,
 "nbformat_minor": 2
}
