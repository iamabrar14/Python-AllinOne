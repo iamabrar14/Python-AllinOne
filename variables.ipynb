{
 "cells": [
  {
   "cell_type": "code",
   "execution_count": 3,
   "metadata": {},
   "outputs": [
    {
     "name": "stdout",
     "output_type": "stream",
     "text": [
      "The name of the employee is Abrar\n",
      "His raise will be 0.5\n",
      "The name of the employee is Anik\n",
      "His raise will be 0.4\n"
     ]
    }
   ],
   "source": [
    "class Employee:\n",
    "    def __init__(self, name):\n",
    "        self.name = name\n",
    "        self.raise_amount = 0.5  # instance variable\n",
    "\n",
    "    def showDetails(self):  \n",
    "        print(f\"The name of the employee is {self.name}\")\n",
    "        print(f\"His raise will be {self.raise_amount}\")\n",
    "\n",
    "\n",
    "o1 = Employee(\"Abrar\")\n",
    "o1.showDetails()\n",
    "\n",
    "o2 = Employee(\"Anik\")\n",
    "o2.raise_amount = 0.4\n",
    "o2.showDetails()\n"
   ]
  },
  {
   "cell_type": "code",
   "execution_count": 5,
   "metadata": {},
   "outputs": [
    {
     "name": "stdout",
     "output_type": "stream",
     "text": [
      "The name of the friend is Abrar and he plays Clash Of Clans\n",
      "His raise will be 0.5\n",
      "Total friends 1\n",
      "The name of the friend is Anik and he plays Efootball\n",
      "His raise will be 0.4\n",
      "Total friends 2\n"
     ]
    }
   ],
   "source": [
    "class Friends:\n",
    "    gameName=\"Efootball\" #class variables\n",
    "    noOfFriends=0\n",
    "    def __init__(self, name):\n",
    "        self.name = name\n",
    "        self.raise_amount = 0.5  # instance variable\n",
    "        Friends.noOfFriends+=1\n",
    "\n",
    "    def showDetails(self):  \n",
    "        print(f\"The name of the friend is {self.name} and he plays {self.gameName}\")\n",
    "        print(f\"His raise will be {self.raise_amount}\")\n",
    "        print(f\"Total friends {self.noOfFriends}\")\n",
    "\n",
    "\n",
    "o1 = Friends(\"Abrar\")\n",
    "o1.gameName=\"Clash Of Clans\"\n",
    "o1.showDetails()\n",
    "\n",
    "o2 = Friends(\"Anik\")\n",
    "o2.raise_amount = 0.4\n",
    "\n",
    "o2.showDetails()"
   ]
  }
 ],
 "metadata": {
  "kernelspec": {
   "display_name": "Python 3",
   "language": "python",
   "name": "python3"
  },
  "language_info": {
   "codemirror_mode": {
    "name": "ipython",
    "version": 3
   },
   "file_extension": ".py",
   "mimetype": "text/x-python",
   "name": "python",
   "nbconvert_exporter": "python",
   "pygments_lexer": "ipython3",
   "version": "3.12.1"
  }
 },
 "nbformat": 4,
 "nbformat_minor": 2
}
