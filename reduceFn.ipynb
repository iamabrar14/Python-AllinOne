{
 "cells": [
  {
   "cell_type": "code",
   "execution_count": 1,
   "metadata": {},
   "outputs": [
    {
     "name": "stdout",
     "output_type": "stream",
     "text": [
      "All the values of given list :  [1, 2, 3, 4, 5]\n",
      "Multiplication of all the given values will be :  120\n"
     ]
    }
   ],
   "source": [
    "from functools import reduce\n",
    "def mul(x,y):\n",
    "    return x*y\n",
    "l=[1,2,3,4,5]\n",
    "mul=reduce(mul,l)\n",
    "print(\"All the values of given list : \",l)\n",
    "print(\"Multiplication of all the given values will be : \",mul)"
   ]
  },
  {
   "cell_type": "code",
   "execution_count": 15,
   "metadata": {},
   "outputs": [
    {
     "name": "stdout",
     "output_type": "stream",
     "text": [
      "The list is: [1, 2, 3, 4, 5]\n",
      "Multiplied value: 120\n"
     ]
    }
   ],
   "source": [
    "from functools import reduce\n",
    "\n",
    "def red(x, y):\n",
    "    return x * y\n",
    "\n",
    "a = int(input(\"How many numbers you want to add: \"))\n",
    "l = []\n",
    "\n",
    "for i in range(a):\n",
    "    b = int(input(f\"Enter number {i+1}: \"))\n",
    "    l.append(b)\n",
    "\n",
    "print(\"The list is:\", l)\n",
    "\n",
    "# Multiply all values\n",
    "mul = reduce(red, l)\n",
    "print(\"Multiplied value:\", mul)\n"
   ]
  }
 ],
 "metadata": {
  "kernelspec": {
   "display_name": "Python 3",
   "language": "python",
   "name": "python3"
  },
  "language_info": {
   "codemirror_mode": {
    "name": "ipython",
    "version": 3
   },
   "file_extension": ".py",
   "mimetype": "text/x-python",
   "name": "python",
   "nbconvert_exporter": "python",
   "pygments_lexer": "ipython3",
   "version": "3.12.1"
  }
 },
 "nbformat": 4,
 "nbformat_minor": 2
}
