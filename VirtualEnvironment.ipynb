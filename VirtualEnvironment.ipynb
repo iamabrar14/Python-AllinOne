{
 "cells": [
  {
   "cell_type": "code",
   "execution_count": null,
   "metadata": {},
   "outputs": [],
   "source": [
    "\"\"\"A virtual environment is a tool used to isolate a specific python environment on a single machine\n",
    "  allowing you to work on multiple project with different dependencies and packages without conflict.\n",
    "\"\"\"\n",
    "\"\"\" Process of creating a virtual environment\n",
    "\n",
    "Firstly create a new folder anywhere and open it by using cmd. Then use these commands\n",
    "1-python -m venv myenv (it will create Virtual environment folder named myenv)\n",
    "2-myenv\\Scripts\\activate(This will activate current folder)\n",
    "\n",
    "after that just call pip and install any package with any version and when you finish your task, deactive\n",
    "the environment using \"deactivate\" command in cmd\n",
    "suppose we want to install pandas 1.5\n",
    "command= pip install pandas==1.5. Thats how we specify a version that we want to use.\n",
    "\n",
    "\"pip freeze>requirements.txt\" This command will print all the packages with version installed in a txt file.\n",
    "\"pip install -r requirements.txt\" it will install required packages with their version based on given criteria\n",
    "\"\"\""
   ]
  }
 ],
 "metadata": {
  "language_info": {
   "name": "python"
  }
 },
 "nbformat": 4,
 "nbformat_minor": 2
}
