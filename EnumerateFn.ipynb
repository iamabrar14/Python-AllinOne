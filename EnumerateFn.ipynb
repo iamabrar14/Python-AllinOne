{
 "cells": [
  {
   "cell_type": "code",
   "execution_count": 2,
   "metadata": {},
   "outputs": [
    {
     "name": "stdout",
     "output_type": "stream",
     "text": [
      "33\n",
      "45\n",
      "85\n",
      "90\n",
      "Highest mark!\n",
      "80\n",
      "76\n",
      "70\n"
     ]
    }
   ],
   "source": [
    "#Enumerate function is a built in function of python that allows us to loop over a sequence\n",
    "#And get index and value of that sequence at the same time.\n",
    "\n",
    "#Program without enumerate function\n",
    "marks=[33,45,85,90,80,76,70]\n",
    "index=0\n",
    "for mark in marks:\n",
    "    print(mark)\n",
    "    if(index==3):\n",
    "        print(\"Highest mark!\")\n",
    "    index=index+1"
   ]
  },
  {
   "cell_type": "code",
   "execution_count": 3,
   "metadata": {},
   "outputs": [
    {
     "name": "stdout",
     "output_type": "stream",
     "text": [
      "33\n",
      "45\n",
      "85\n",
      "90\n",
      "Highest mark!\n",
      "80\n",
      "76\n",
      "70\n"
     ]
    }
   ],
   "source": [
    "#with enumerate function\n",
    "marks=[33,45,85,90,80,76,70]\n",
    "\n",
    "for index,mark in enumerate(marks):\n",
    "    print(mark)\n",
    "    if(index==3):\n",
    "        print(\"Highest mark!\")\n",
    "#So we do not have to declare index and increase its value manually after every iteration.\n",
    "#Enumerate function will give us the value and the index at the same time."
   ]
  },
  {
   "cell_type": "code",
   "execution_count": 6,
   "metadata": {},
   "outputs": [
    {
     "name": "stdout",
     "output_type": "stream",
     "text": [
      "Fruit 1 :Apple \n",
      "Fruit 2 :Banana \n",
      "Fruit 3 :Orange \n",
      "Fruit 4 :Lichi \n",
      "Fruit 5 :Jackfruit \n",
      "Fruit 6 :Guava \n"
     ]
    }
   ],
   "source": [
    "#We know, by default index value is 0. We can change this default index value using enumerate.\n",
    "\n",
    "fruits=[\"Apple\",\"Banana\",\"Orange\",\"Lichi\",\"Jackfruit\",\"Guava\"]\n",
    "\n",
    "for index,fruit in enumerate(fruits, start=1):\n",
    "    print(f\"Fruit {index} :{fruit} \")"
   ]
  }
 ],
 "metadata": {
  "kernelspec": {
   "display_name": "Python 3",
   "language": "python",
   "name": "python3"
  },
  "language_info": {
   "codemirror_mode": {
    "name": "ipython",
    "version": 3
   },
   "file_extension": ".py",
   "mimetype": "text/x-python",
   "name": "python",
   "nbconvert_exporter": "python",
   "pygments_lexer": "ipython3",
   "version": "3.12.1"
  }
 },
 "nbformat": 4,
 "nbformat_minor": 2
}
