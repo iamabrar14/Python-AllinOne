{
 "cells": [
  {
   "cell_type": "code",
   "execution_count": 1,
   "metadata": {},
   "outputs": [
    {
     "name": "stdout",
     "output_type": "stream",
     "text": [
      "10\n",
      "I am global variable 10\n"
     ]
    }
   ],
   "source": [
    "x=10 #global variable can be used in a function until a variable with same name declared in fn\n",
    "print(x)\n",
    "def variable():\n",
    "    print(\"I am global variable\",x)\n",
    "variable()"
   ]
  },
  {
   "cell_type": "code",
   "execution_count": 6,
   "metadata": {},
   "outputs": [
    {
     "name": "stdout",
     "output_type": "stream",
     "text": [
      "I am global Variable 10\n",
      "I am local variable with same name 5\n",
      " Firstly we have created a global variable with name x and\n",
      "    then a local variable in function with same name x. Both will be different in this case\n",
      "    \n"
     ]
    }
   ],
   "source": [
    "x=10\n",
    "print(\"I am global Variable\",x)\n",
    "def variable():\n",
    "    \"\"\" Firstly we have created a global variable with name x and\n",
    "    then a local variable in function with same name x. Both will be different in this case\n",
    "    \"\"\"\n",
    "    x=5\n",
    "    print(\"I am local variable with same name\",x)\n",
    "    \n",
    "   \n",
    "variable()\n",
    "print(variable.__doc__)"
   ]
  },
  {
   "cell_type": "code",
   "execution_count": 10,
   "metadata": {},
   "outputs": [
    {
     "name": "stdout",
     "output_type": "stream",
     "text": [
      "Before changing value of x is  10\n",
      "Value Changed by using global keyword :  5\n",
      "Global variable can be changed by using global keyword.\n",
      "    \n"
     ]
    }
   ],
   "source": [
    "x=10\n",
    "print(\"Before changing value of x is \",x)\n",
    "def variable():\n",
    "    \"\"\"Global variable can be changed by using global keyword.\n",
    "    \"\"\"\n",
    "    global x\n",
    "    x=5\n",
    "    print(\"Value Changed by using global keyword : \",x)\n",
    "variable()\n",
    "print(variable.__doc__)"
   ]
  }
 ],
 "metadata": {
  "kernelspec": {
   "display_name": "Python 3",
   "language": "python",
   "name": "python3"
  },
  "language_info": {
   "codemirror_mode": {
    "name": "ipython",
    "version": 3
   },
   "file_extension": ".py",
   "mimetype": "text/x-python",
   "name": "python",
   "nbconvert_exporter": "python",
   "pygments_lexer": "ipython3",
   "version": "3.12.1"
  }
 },
 "nbformat": 4,
 "nbformat_minor": 2
}
