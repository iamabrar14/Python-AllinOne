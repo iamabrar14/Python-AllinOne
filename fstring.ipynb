{
 "cells": [
  {
   "cell_type": "code",
   "execution_count": 1,
   "metadata": {},
   "outputs": [
    {
     "name": "stdout",
     "output_type": "stream",
     "text": [
      "Hi my name is Abrar , I'm from Bangladesh. I love to watchFootball. I am a student of Computer Science And Engineering\n"
     ]
    }
   ],
   "source": [
    "letter= \"Hi my name is {} , I'm from {}. I love to watch{}. I am a student of {}\"\n",
    "name=\"Abrar\"\n",
    "country=\"Bangladesh\"\n",
    "sports=\"Football\"\n",
    "subject=\"Computer Science And Engineering\"\n",
    "print(letter.format(name,country,sports,subject))\n",
    "#This is string formatting using format function. "
   ]
  },
  {
   "cell_type": "code",
   "execution_count": 4,
   "metadata": {},
   "outputs": [
    {
     "name": "stdout",
     "output_type": "stream",
     "text": [
      "Hi my name is Abrar. I'm from Bangladesh. I love to watchFootball. I am a student of Computer Science And Engineering\n"
     ]
    }
   ],
   "source": [
    "name=\"Abrar\"\n",
    "country=\"Bangladesh\"\n",
    "sports=\"Football\"\n",
    "subject=\"Computer Science And Engineering\"\n",
    "print(f\"Hi my name is {name}. I'm from {country}. I love to watch{sports}. I am a student of {subject}\")\n",
    "\n",
    "#This is called fstring."
   ]
  },
  {
   "cell_type": "code",
   "execution_count": 8,
   "metadata": {},
   "outputs": [
    {
     "name": "stdout",
     "output_type": "stream",
     "text": [
      "120\n"
     ]
    }
   ],
   "source": [
    "print(f\"{2*60}\")"
   ]
  },
  {
   "cell_type": "code",
   "execution_count": 9,
   "metadata": {},
   "outputs": [
    {
     "name": "stdout",
     "output_type": "stream",
     "text": [
      "We print fsting like this Hi my name is {name}. I'm from {country}. I love to watch{sports}. I am a student of {subject} \n"
     ]
    }
   ],
   "source": [
    "\n",
    "name=\"Abrar\"\n",
    "country=\"Bangladesh\"\n",
    "sports=\"Football\"\n",
    "subject=\"Computer Science And Engineering\"\n",
    "print(f\"We print fsting like this Hi my name is {{name}}. I'm from {{country}}. I love to watch{{sports}}. I am a student of {{subject}} \")\n"
   ]
  }
 ],
 "metadata": {
  "kernelspec": {
   "display_name": "Python 3",
   "language": "python",
   "name": "python3"
  },
  "language_info": {
   "codemirror_mode": {
    "name": "ipython",
    "version": 3
   },
   "file_extension": ".py",
   "mimetype": "text/x-python",
   "name": "python",
   "nbconvert_exporter": "python",
   "pygments_lexer": "ipython3",
   "version": "3.12.1"
  }
 },
 "nbformat": 4,
 "nbformat_minor": 2
}
