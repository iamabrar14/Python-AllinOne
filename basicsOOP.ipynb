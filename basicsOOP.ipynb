{
 "cells": [
  {
   "cell_type": "code",
   "execution_count": 2,
   "metadata": {},
   "outputs": [
    {
     "name": "stdout",
     "output_type": "stream",
     "text": [
      "We have 2 programming methods\n",
      "    i) Procedural Method(We used before starting OOP)\n",
      "    ii)OOP Method(Object Oriented Programming method)\n",
      "    OOP operates with class and object.\n",
      "    A class is a blueprint or template for creating object.\n",
      "    Object is an instance of a class. It contains its own data and methods\n",
      "\n",
      "    \n"
     ]
    }
   ],
   "source": [
    "def oop():\n",
    "    \"\"\"We have 2 programming methods\n",
    "    i) Procedural Method(We used before starting OOP)\n",
    "    ii)OOP Method(Object Oriented Programming method)\n",
    "    OOP operates with class and object.\n",
    "    A class is a blueprint or template for creating object.\n",
    "    Object is an instance of a class. It contains its own data and methods\n",
    "    \n",
    "    \"\"\"\n",
    "print(oop.__doc__)"
   ]
  }
 ],
 "metadata": {
  "kernelspec": {
   "display_name": "Python 3",
   "language": "python",
   "name": "python3"
  },
  "language_info": {
   "codemirror_mode": {
    "name": "ipython",
    "version": 3
   },
   "file_extension": ".py",
   "mimetype": "text/x-python",
   "name": "python",
   "nbconvert_exporter": "python",
   "pygments_lexer": "ipython3",
   "version": "3.12.1"
  }
 },
 "nbformat": 4,
 "nbformat_minor": 2
}
