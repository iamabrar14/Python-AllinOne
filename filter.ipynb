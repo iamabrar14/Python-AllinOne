{
 "cells": [
  {
   "cell_type": "code",
   "execution_count": 2,
   "metadata": {},
   "outputs": [
    {
     "name": "stdout",
     "output_type": "stream",
     "text": [
      "[4, 5, 6, 7, 8, 9, 10]\n"
     ]
    }
   ],
   "source": [
    "\"\"\"We all know what does filter means. This function will work as a filter and gives us value\n",
    "based on given condition. 1 code example will clear everything.\n",
    "if a function takes another function as an arguement, it will be called higher order function\n",
    "\"\"\"\n",
    "def filter_fn(a):\n",
    "    return a>3\n",
    "l=[1,2,3,4,5,6,7,8,9,10]\n",
    "newl=list(filter(filter_fn,l))\n",
    "print(newl)\n",
    "#It filtered all the values that are greater than 3"
   ]
  }
 ],
 "metadata": {
  "kernelspec": {
   "display_name": "Python 3",
   "language": "python",
   "name": "python3"
  },
  "language_info": {
   "codemirror_mode": {
    "name": "ipython",
    "version": 3
   },
   "file_extension": ".py",
   "mimetype": "text/x-python",
   "name": "python",
   "nbconvert_exporter": "python",
   "pygments_lexer": "ipython3",
   "version": "3.12.1"
  }
 },
 "nbformat": 4,
 "nbformat_minor": 2
}
