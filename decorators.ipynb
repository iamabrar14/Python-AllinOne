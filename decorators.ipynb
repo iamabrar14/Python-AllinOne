{
 "cells": [
  {
   "cell_type": "code",
   "execution_count": 1,
   "metadata": {},
   "outputs": [
    {
     "name": "stdout",
     "output_type": "stream",
     "text": [
      "Used decorator @\n",
      "Thanks for using this function : \n",
      "Hello to decorator!\n"
     ]
    }
   ],
   "source": [
    "'''A decorator is a function that takes another function as an arguement and returns a new function that \n",
    "modifies the behaviour of original function\n",
    "'''\n",
    "def greet(fx):\n",
    "    def mx():\n",
    "        print(\"Used decorator @\")\n",
    "        print(\"Thanks for using this function : \")\n",
    "        fx()\n",
    "    return mx\n",
    "@greet\n",
    "def hello():\n",
    "    print(\"Hello to decorator!\")\n",
    "hello()\n",
    "    "
   ]
  },
  {
   "cell_type": "code",
   "execution_count": 3,
   "metadata": {},
   "outputs": [
    {
     "name": "stdout",
     "output_type": "stream",
     "text": [
      "Used decorator\n",
      "Thanks for using this function : \n",
      "Summation of 10 and 5 15\n"
     ]
    }
   ],
   "source": [
    "def greet(fx):\n",
    "    def mx(*args,**kwargs):\n",
    "        \"\"\"We used *args and **kwargs because we are passing 2 values for adding them in add function\n",
    "        \"\"\"\n",
    "        print(\"Used decorator\")\n",
    "        print(\"Thanks for using this function : \")\n",
    "        fx(*args,**kwargs)\n",
    "    return mx\n",
    "@greet\n",
    "def add(a,b):\n",
    "    print(f\"Summation of {a} and {b}\",a+b)\n",
    "add(10,5)"
   ]
  },
  {
   "cell_type": "code",
   "execution_count": 7,
   "metadata": {},
   "outputs": [
    {
     "name": "stdout",
     "output_type": "stream",
     "text": [
      "Welcome admin! to the dashboard\n",
      "Access denied!\n"
     ]
    }
   ],
   "source": [
    "def authentication(func):\n",
    "    def wrapper(user):\n",
    "        if user == \"admin\":\n",
    "            func(user)\n",
    "        else:\n",
    "            print(\"Access denied!\")\n",
    "    return wrapper  \n",
    "\n",
    "@authentication\n",
    "def dash(user):\n",
    "    print(f\"Welcome {user}! to the dashboard\")\n",
    "\n",
    "dash(\"admin\") \n",
    "dash(\"user\")   \n"
   ]
  }
 ],
 "metadata": {
  "kernelspec": {
   "display_name": "Python 3",
   "language": "python",
   "name": "python3"
  },
  "language_info": {
   "codemirror_mode": {
    "name": "ipython",
    "version": 3
   },
   "file_extension": ".py",
   "mimetype": "text/x-python",
   "name": "python",
   "nbconvert_exporter": "python",
   "pygments_lexer": "ipython3",
   "version": "3.12.1"
  }
 },
 "nbformat": 4,
 "nbformat_minor": 2
}
