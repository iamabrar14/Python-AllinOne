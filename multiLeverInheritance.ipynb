{
 "cells": [
  {
   "cell_type": "code",
   "execution_count": 1,
   "metadata": {},
   "outputs": [
    {
     "name": "stdout",
     "output_type": "stream",
     "text": [
      "I am from Grandfather class\n",
      "I am from father class\n",
      "I am from child class\n"
     ]
    }
   ],
   "source": [
    "\"\"\"Multilevel inheritance is a type of inheritance where a derived class inherits from another derived class.\n",
    "\n",
    "\"\"\"\n",
    "class Grandfather:\n",
    "    def gfather(self):\n",
    "        print(\"I am from Grandfather class\")\n",
    "class father(Grandfather):\n",
    "    def fatherr(self):\n",
    "        print(\"I am from father class\")\n",
    "class child(father):\n",
    "    def chil(self):\n",
    "        print(\"I am from child class\")\n",
    "obj=child()\n",
    "obj.gfather()\n",
    "obj.fatherr()\n",
    "obj.chil()\n",
    "#Here Grandfather is main class. Father class is derived from Grandfather class\n",
    "#And lastly child class is derived from father class.\n",
    "\n"
   ]
  },
  {
   "cell_type": "code",
   "execution_count": 2,
   "metadata": {},
   "outputs": [
    {
     "name": "stdout",
     "output_type": "stream",
     "text": [
      "Constructor of A\n",
      "Constructor of B\n",
      "Constructor of C\n"
     ]
    }
   ],
   "source": [
    "#Understanding by constructor\n",
    "class A:\n",
    "    def __init__(self):\n",
    "        print(\"Constructor of A\")\n",
    "class B(A):\n",
    "    def __init__(self):\n",
    "     super().__init__()\n",
    "     print(\"Constructor of B\")\n",
    "class C(B):\n",
    "    def __init__(self):\n",
    "     super().__init__()\n",
    "     print(\"Constructor of C\")\n",
    "obj=C()"
   ]
  },
  {
   "cell_type": "code",
   "execution_count": 5,
   "metadata": {},
   "outputs": [
    {
     "name": "stdout",
     "output_type": "stream",
     "text": [
      "I am a footballer\n",
      "I play for Football Club Barcelona\n",
      "My natural position is a winger\n",
      "My Name is Lamine Yamal\n",
      "My jersey number is 10\n"
     ]
    }
   ],
   "source": [
    "class Footballer:\n",
    "    def __init__(self):\n",
    "        print(\"I am a footballer\")\n",
    "class Barcelona(Footballer):\n",
    "    def __init__(self):\n",
    "        super().__init__()\n",
    "        print(\"I play for Football Club Barcelona\")\n",
    "class Winger(Barcelona):\n",
    "    def __init__(self):\n",
    "        super().__init__()\n",
    "        print(\"My natural position is a winger\")\n",
    "class name(Winger):\n",
    "    def __init__(self):\n",
    "        super().__init__()\n",
    "        print(\"My Name is Lamine Yamal\")\n",
    "class Jersey(name):\n",
    "    def __init__(self):\n",
    "        super().__init__()\n",
    "        print(\"My jersey number is 10\")\n",
    "obj=Jersey()"
   ]
  }
 ],
 "metadata": {
  "kernelspec": {
   "display_name": "Python 3",
   "language": "python",
   "name": "python3"
  },
  "language_info": {
   "codemirror_mode": {
    "name": "ipython",
    "version": 3
   },
   "file_extension": ".py",
   "mimetype": "text/x-python",
   "name": "python",
   "nbconvert_exporter": "python",
   "pygments_lexer": "ipython3",
   "version": "3.12.1"
  }
 },
 "nbformat": 4,
 "nbformat_minor": 2
}
