{
 "cells": [
  {
   "cell_type": "code",
   "execution_count": 5,
   "metadata": {},
   "outputs": [
    {
     "name": "stdout",
     "output_type": "stream",
     "text": [
      "I am a footballer\n",
      "A midfielder is surely a footballer\n",
      "\n",
      "\n",
      "I am a footballer\n",
      "A defender is surely a footballer\n"
     ]
    }
   ],
   "source": [
    "#When multiple child classes inherit from a single parent class, it's called Hierarchical Inheritance.\n",
    "\n",
    "class Footballer:\n",
    "    def __init__(self):\n",
    "        print(\"I am a footballer\")\n",
    "class Defender(Footballer):\n",
    "    def __init__(self):\n",
    "        super().__init__()\n",
    "        print(\"A defender is surely a footballer\")\n",
    "class Midfielder(Footballer):\n",
    "    def __init__(self):\n",
    "        super().__init__()\n",
    "        print(\"A midfielder is surely a footballer\")\n",
    "obj1=Midfielder()\n",
    "print(\"\\n\")\n",
    "obj2=Defender()\n",
    "\"\"\" Here, parent class is footballer and from this parent class, 2 other classes inherits\n",
    "\"\"\""
   ]
  },
  {
   "cell_type": "code",
   "execution_count": 6,
   "metadata": {},
   "outputs": [
    {
     "name": "stdout",
     "output_type": "stream",
     "text": [
      "This is our friends squad\n",
      "Abrar and Athin studies in CSE\n",
      "Akib studies in law\n",
      "Samir and Anik is studying in medical sector\n"
     ]
    }
   ],
   "source": [
    "class squad:\n",
    "    def __init__(self):\n",
    "        print(\"This is our friends squad\")\n",
    "class cse(squad):\n",
    "    def __init__(self):\n",
    "        super().__init__()\n",
    "        print(\"Abrar and Athin studies in CSE\")\n",
    "class lawyer(squad):\n",
    "    def __init__(self):\n",
    "     print(\"Akib studies in law\")\n",
    "class nursing(squad):\n",
    "    def __init__(self):\n",
    "     print(\"Samir and Anik is studying in medical sector\")\n",
    "obj1=cse()\n",
    "obj2=lawyer()\n",
    "obj3=nursing()\n",
    "\n",
    "#Maintaining a hierarchical order.\n"
   ]
  }
 ],
 "metadata": {
  "kernelspec": {
   "display_name": "Python 3",
   "language": "python",
   "name": "python3"
  },
  "language_info": {
   "codemirror_mode": {
    "name": "ipython",
    "version": 3
   },
   "file_extension": ".py",
   "mimetype": "text/x-python",
   "name": "python",
   "nbconvert_exporter": "python",
   "pygments_lexer": "ipython3",
   "version": "3.12.1"
  }
 },
 "nbformat": 4,
 "nbformat_minor": 2
}
