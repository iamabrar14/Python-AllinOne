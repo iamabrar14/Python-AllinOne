{
 "cells": [
  {
   "cell_type": "code",
   "execution_count": 1,
   "metadata": {},
   "outputs": [
    {
     "name": "stdout",
     "output_type": "stream",
     "text": [
      "Your gmean : 4.235294117647059\n"
     ]
    }
   ],
   "source": [
    "def CalculateGmean(a,b):\n",
    "    mean=(a*b)/(a+b)\n",
    "    return mean\n",
    "x=int(input(\"Enter first number : \"))\n",
    "y=int(input(\"Enter second number : \"))\n",
    "print(\"Your gmean :\",CalculateGmean(x,y))\n",
    "\n",
    "#This function will calculate Geomatric Mean for any 2 given numbers from user"
   ]
  },
  {
   "cell_type": "code",
   "execution_count": 4,
   "metadata": {},
   "outputs": [
    {
     "name": "stdout",
     "output_type": "stream",
     "text": [
      "First number is greater!\n"
     ]
    }
   ],
   "source": [
    "def isGreater(a,b):\n",
    "    if(a>b):\n",
    "        print(\"First number is greater!\")\n",
    "    else:\n",
    "        print(\"Second number is greater\")\n",
    "def isLesser(a,b):\n",
    "    pass\n",
    "\"\"\"If we do not complete the function and want to complete it later, we have to write this keyword \n",
    "'pass' otherwise it will throw us an error.\n",
    "\"\"\"\n",
    "a=int(input(\"Enter first number : \"))\n",
    "b=int(input(\"Enter second number : \"))\n",
    "isGreater(a,b)"
   ]
  },
  {
   "cell_type": "code",
   "execution_count": null,
   "metadata": {},
   "outputs": [],
   "source": [
    "\"\"\"\n",
    "A function is a block of code that performs a specific task when it is called.\n",
    "\"\"\""
   ]
  },
  {
   "cell_type": "code",
   "execution_count": 5,
   "metadata": {},
   "outputs": [
    {
     "name": "stdout",
     "output_type": "stream",
     "text": [
      "Averge :  5.0\n"
     ]
    }
   ],
   "source": [
    "def average(a,b=5): #Another way of arguement\n",
    "    print(\"Averge : \",(a+b)/2)\n",
    "average(5)"
   ]
  },
  {
   "cell_type": "code",
   "execution_count": 7,
   "metadata": {},
   "outputs": [
    {
     "name": "stdout",
     "output_type": "stream",
     "text": [
      "<class 'tuple'>\n",
      "Average is :  6.0\n"
     ]
    }
   ],
   "source": [
    "def average(*numbers):\n",
    "\n",
    "    sum=0\n",
    "    for i in numbers:\n",
    "        sum=sum+i\n",
    "    print(\"Average is : \",sum/(len(numbers)))\n",
    "average(5,5,8)\n",
    "#Here , the arguement numbers took user input as list by just putting * before it."
   ]
  },
  {
   "cell_type": "code",
   "execution_count": null,
   "metadata": {},
   "outputs": [],
   "source": [
    "def name(**name): \n",
    "    #unlike previous program, it will take arguement as dictionary\n",
    "    print(\"Hello\",name[\"fname\"],name['mname'], name[\"lname\"])\n",
    "name(fname=\"Abrar\",mname=\"Rahman\",lname=\"Pranto\")"
   ]
  }
 ],
 "metadata": {
  "kernelspec": {
   "display_name": "Python 3",
   "language": "python",
   "name": "python3"
  },
  "language_info": {
   "codemirror_mode": {
    "name": "ipython",
    "version": 3
   },
   "file_extension": ".py",
   "mimetype": "text/x-python",
   "name": "python",
   "nbconvert_exporter": "python",
   "pygments_lexer": "ipython3",
   "version": "3.12.1"
  }
 },
 "nbformat": 4,
 "nbformat_minor": 2
}
