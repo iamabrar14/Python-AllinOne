{
 "cells": [
  {
   "cell_type": "code",
   "execution_count": 2,
   "metadata": {},
   "outputs": [
    {
     "name": "stdout",
     "output_type": "stream",
     "text": [
      "Fathers Skills: Coding and Playing Football\n",
      "Childs Skills: Drawing,Music\n"
     ]
    }
   ],
   "source": [
    "\"\"\"Multiple inheritance allows a class to inherit attributes and methods from multiple parent class.\n",
    "mro=method resolution order\n",
    "\"\"\"\n",
    "class Father:\n",
    "    def skills(self):\n",
    "        print(\"Fathers Skills: Coding and Playing Football\")\n",
    "class Mother:\n",
    "    def skills(self):\n",
    "        print(\"Mothers Skills: Cooking and Singing\")\n",
    "class Child(Father,Mother):\n",
    "    def childSkills(self):\n",
    "        print(\"Childs Skills: Drawing,Music\")\n",
    "obj=Child()\n",
    "obj.skills()#Will print fathers skill because of method resoultion order\n",
    "obj.childSkills()"
   ]
  },
  {
   "cell_type": "code",
   "execution_count": 3,
   "metadata": {},
   "outputs": [
    {
     "name": "stdout",
     "output_type": "stream",
     "text": [
      "Mothers Skills: Cooking and Singing\n",
      "Childs Skills: Drawing,Music\n"
     ]
    }
   ],
   "source": [
    "class Father:\n",
    "    def skills(self):\n",
    "        print(\"Fathers Skills: Coding and Playing Football\")\n",
    "class Mother:\n",
    "    def skills(self):\n",
    "        print(\"Mothers Skills: Cooking and Singing\")\n",
    "class Child(Mother,Father):\n",
    "    def childSkills(self):\n",
    "        print(\"Childs Skills: Drawing,Music\")\n",
    "obj=Child()\n",
    "obj.skills()#Now it will print mothers skill\n",
    "obj.childSkills()"
   ]
  },
  {
   "cell_type": "code",
   "execution_count": 6,
   "metadata": {},
   "outputs": [
    {
     "name": "stdout",
     "output_type": "stream",
     "text": [
      "He is a footballer\n",
      "He is a defensive Midfielder: Sergio Busquets\n",
      "[<class '__main__.DefensiveMid'>, <class '__main__.Footballer'>, <class '__main__.Midfielder'>, <class 'object'>]\n"
     ]
    }
   ],
   "source": [
    "#Multiple inheritance,constructor part\n",
    "class Footballer:\n",
    "    def __init__(self):\n",
    "        print(\"He is a footballer\")\n",
    "class Midfielder:\n",
    "    def __init__(self):\n",
    "        print(\"He is a Midfielder\")\n",
    "class DefensiveMid(Footballer,Midfielder): #follows mro. will print footballers class method\n",
    "    def __init__(self):\n",
    "        super().__init__()\n",
    "        print(\"He is a defensive Midfielder: Sergio Busquets\")\n",
    "        print(DefensiveMid.mro()) #It will show the order.\n",
    "        \n",
    "obj=DefensiveMid() #Constructor Printed automatically with original value of DefensiveMid class\n",
    "\n",
    "        \n",
    "        \n",
    "        \n",
    "        "
   ]
  },
  {
   "cell_type": "code",
   "execution_count": 8,
   "metadata": {},
   "outputs": [
    {
     "name": "stdout",
     "output_type": "stream",
     "text": [
      "Chester is one of my favorite vocalists\n",
      "Music Band: Linkin Park\n",
      "Linkin Park is my favorite\n"
     ]
    }
   ],
   "source": [
    "class Band:\n",
    "    def __init__(self):\n",
    "        print(\"Music Band: Linkin Park\")\n",
    "class LinkinPark:\n",
    "    def __init__(self):\n",
    "        print(\"Linkin Park is my favorite\")\n",
    "class ChesterBennington(LinkinPark,Band):\n",
    "    def __init__(self):\n",
    "        print(\"Chester is one of my favorite vocalists\")\n",
    "        Band.__init__(self)\n",
    "        LinkinPark.__init__(self)\n",
    "obj=ChesterBennington()\n",
    "\"\"\"So basically here we called both the constructors from both parent class. Which is different approach\n",
    "compared to previous two programm.\n",
    "\"\"\"\n",
    "            "
   ]
  }
 ],
 "metadata": {
  "kernelspec": {
   "display_name": "Python 3",
   "language": "python",
   "name": "python3"
  },
  "language_info": {
   "codemirror_mode": {
    "name": "ipython",
    "version": 3
   },
   "file_extension": ".py",
   "mimetype": "text/x-python",
   "name": "python",
   "nbconvert_exporter": "python",
   "pygments_lexer": "ipython3",
   "version": "3.12.1"
  }
 },
 "nbformat": 4,
 "nbformat_minor": 2
}
