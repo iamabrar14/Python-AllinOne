{
 "cells": [
  {
   "cell_type": "code",
   "execution_count": null,
   "metadata": {},
   "outputs": [],
   "source": [
    "print(\"Hello\")"
   ]
  },
  {
   "cell_type": "code",
   "execution_count": null,
   "metadata": {},
   "outputs": [],
   "source": [
    "marks = [70,85,45,50,65]\n",
    "for mark in marks:\n",
    "    if mark >= 80:\n",
    "        gr = \"A+\"\n",
    "        print(\"Your grade is:\", gr)\n",
    "    elif mark >= 70:\n",
    "        gr = \"A\"\n",
    "        print(\"Your grade is:\", gr)\n",
    "    elif mark>=60:\n",
    "        gr=\"A-\"    \n",
    "        print(\"Your grade is:\", gr)\n",
    "    elif mark>=50:\n",
    "        gr=\"B\"   \n",
    "        print(\"Your grade is:\", gr) \n",
    "    elif mark>=40:\n",
    "        gr=\"C\"    \n",
    "        print(\"Your grade is:\", gr)\n",
    "    else:\n",
    "        gr = \"Below C\"\n",
    "        print(\"Your grade is:\", gr)\n",
    "\n",
    "##PROGRAM 2,3\n"
   ]
  },
  {
   "cell_type": "code",
   "execution_count": 12,
   "metadata": {},
   "outputs": [],
   "source": [
    "def pythonClass():\n",
    "    pass\n",
    "pythonClass()\n",
    "##MATCH,PASS"
   ]
  },
  {
   "cell_type": "code",
   "execution_count": null,
   "metadata": {},
   "outputs": [],
   "source": [
    "x=int(input(''))\n",
    "y=int(input(''))\n",
    "\n",
    "match((x,y)):\n",
    "    case(0,0):\n",
    "        print(\"Origin\")\n",
    "    case(0,5):\n",
    "        print(\"Hello World\")\n",
    "    case _:\n",
    "        print(\"Not Found\")"
   ]
  }
 ],
 "metadata": {
  "kernelspec": {
   "display_name": "Python 3",
   "language": "python",
   "name": "python3"
  },
  "language_info": {
   "codemirror_mode": {
    "name": "ipython",
    "version": 3
   },
   "file_extension": ".py",
   "mimetype": "text/x-python",
   "name": "python",
   "nbconvert_exporter": "python",
   "pygments_lexer": "ipython3",
   "version": "3.12.1"
  }
 },
 "nbformat": 4,
 "nbformat_minor": 2
}
