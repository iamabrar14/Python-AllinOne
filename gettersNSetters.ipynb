{
 "cells": [
  {
   "cell_type": "code",
   "execution_count": 1,
   "metadata": {},
   "outputs": [
    {
     "name": "stdout",
     "output_type": "stream",
     "text": [
      "100\n",
      "Value is 10\n"
     ]
    }
   ],
   "source": [
    "#Getter is a method in python that is used for access a value of an object.\n",
    "\n",
    "class Myclass:\n",
    "    def __init__(self,value):\n",
    "        self._value=value \n",
    "    def show(self):\n",
    "        print(f\"Value is {self._value}\")\n",
    "    @property\n",
    "    def ten_value(self):\n",
    "     return 10*self._value\n",
    "obj=Myclass(10)\n",
    "print(obj.ten_value)\n",
    "obj.show()\n",
    "\"\"\"_value was a private value. But with @property which is a getter method, we accessed the value and\n",
    "done a multiplication operation with that value.\n",
    "\"\"\""
   ]
  },
  {
   "cell_type": "code",
   "execution_count": 4,
   "metadata": {},
   "outputs": [
    {
     "name": "stdout",
     "output_type": "stream",
     "text": [
      "50\n",
      "Sum of 10 and 5 is :  15\n"
     ]
    }
   ],
   "source": [
    "class Myclass:\n",
    "    def __init__(self,a,b):\n",
    "        self._a=a\n",
    "        self._b=b\n",
    "        \n",
    "    def total(self):\n",
    "        print(f\"Sum of {self._a} and {self._b} is : \",self._a+self._b)\n",
    "    @property\n",
    "    def ten_value(self):\n",
    "     return 10*self._b #multipling the value of 2nd variable\n",
    "obj=Myclass(10,5)\n",
    "print(obj.ten_value)\n",
    "obj.total()"
   ]
  },
  {
   "cell_type": "code",
   "execution_count": 8,
   "metadata": {},
   "outputs": [
    {
     "name": "stdout",
     "output_type": "stream",
     "text": [
      "50\n",
      "Sum of 10 and 5 is :  15\n"
     ]
    }
   ],
   "source": [
    "\"\"\"_summary_\n",
    "Setter is a method in python used to set value of a function like @property_name.setter\n",
    "   \n",
    "\"\"\"\n",
    "class Myclass:\n",
    "    def __init__(self,a,b):\n",
    "        self._a=a\n",
    "        self._b=b\n",
    "        \n",
    "    def total(self):\n",
    "        print(f\"Sum of {self._a} and {self._b} is : \",self._a+self._b)\n",
    "    @property\n",
    "    def ten_value(self):\n",
    "     return 10*self._b #multipling the value of 2nd variable\n",
    "    @ten_value.setter\n",
    "    def ten_value(self,newv):\n",
    "        self._value=newv/10\n",
    "       \n",
    "obj=Myclass(10,5)\n",
    "obj.ten_value=67\n",
    "print(obj.ten_value)\n",
    "obj.total()"
   ]
  }
 ],
 "metadata": {
  "kernelspec": {
   "display_name": "Python 3",
   "language": "python",
   "name": "python3"
  },
  "language_info": {
   "codemirror_mode": {
    "name": "ipython",
    "version": 3
   },
   "file_extension": ".py",
   "mimetype": "text/x-python",
   "name": "python",
   "nbconvert_exporter": "python",
   "pygments_lexer": "ipython3",
   "version": "3.12.1"
  }
 },
 "nbformat": 4,
 "nbformat_minor": 2
}
